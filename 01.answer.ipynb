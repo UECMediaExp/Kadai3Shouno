{
 "cells": [
  {
   "cell_type": "markdown",
   "metadata": {},
   "source": [
    "# 実験3-1\n",
    "\n",
    "1. 適正なクラスタ数よりも少ない状況で k-means 法を用いた場合，クラスタの中心がどのような位置に配置されるかを図示し，その振る舞いを考察しなさい．\n",
    "2. 上述とは逆に過剰なクラスタ数を与えた状況で k-means 法を用いた場合，クラスタがどのように配置されるかを図示し，その振る舞いを考察しなさい．\n",
    "3. データ生成時のばらつき（`c_std` でコントロール）を 0.5 ~ 2 程度で変化させたとき，上記と同じ解析を行い，k-means 法の振る舞いについて考察しなさい．\n"
   ]
  },
  {
   "cell_type": "markdown",
   "metadata": {},
   "source": [
    "## 以下回答\n",
    "\n",
    "回答の実験コードと結果を下記に記述していってください．"
   ]
  }
 ],
 "metadata": {
  "kernelspec": {
   "display_name": "Python 3",
   "language": "python",
   "name": "python3"
  },
  "language_info": {
   "codemirror_mode": {
    "name": "ipython",
    "version": 3
   },
   "file_extension": ".py",
   "mimetype": "text/x-python",
   "name": "python",
   "nbconvert_exporter": "python",
   "pygments_lexer": "ipython3",
   "version": "3.10.3"
  }
 },
 "nbformat": 4,
 "nbformat_minor": 2
}
