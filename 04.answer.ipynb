{
 "cells": [
  {
   "cell_type": "markdown",
   "metadata": {},
   "source": [
    "# 実験 3-4\n",
    "\n",
    "1. AE, VAE から得られた潜在空間表現に k-meas 法を施し，どのようなクラスタが得られるかを図示しなさい．\n",
    "2. AE, VAE の構成に畳み込み演算を入れた場合，潜在空間がどのようになるかを図示しなさい．\n",
    "3. `Fashion-MNIST` と `CIFAR10` の潜在空間表現がどのようになるかを図示しなさい．"
   ]
  },
  {
   "cell_type": "markdown",
   "metadata": {},
   "source": [
    "## 以下回答\n",
    "\n",
    "回答の実験コードと結果を下記に記述していってください．"
   ]
  }
 ],
 "metadata": {
  "kernelspec": {
   "display_name": "Python 3",
   "language": "python",
   "name": "python3"
  },
  "language_info": {
   "codemirror_mode": {
    "name": "ipython",
    "version": 3
   },
   "file_extension": ".py",
   "mimetype": "text/x-python",
   "name": "python",
   "nbconvert_exporter": "python",
   "pygments_lexer": "ipython3",
   "version": "3.10.3"
  }
 },
 "nbformat": 4,
 "nbformat_minor": 2
}
