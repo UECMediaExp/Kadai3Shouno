{
 "cells": [
  {
   "cell_type": "markdown",
   "metadata": {},
   "source": [
    "# 実験3-2\n",
    "\n",
    "1. らせん構造データの広がりパラメータ `a` の大きさを $0 \\sim 1$ の間で制御することによって，どの程度の広がり方 ($a$) があれば，PCA で，らせん構造が取り出せそうかを議論しなさい．\n",
    "2. MNIST (データ次元768) のデータ のうち，1000 個のデータを取り出した上で，PCA で次元圧縮をおこない，２次元で図示しなさい．\n",
    "3. 上述のMNISTデータを t-SNE を用いて可視化し，PCA との違いを考察しなさい．"
   ]
  },
  {
   "cell_type": "markdown",
   "metadata": {},
   "source": [
    "## 以下回答\n",
    "\n",
    "回答の実験コードと結果を下記に記述していってください．"
   ]
  }
 ],
 "metadata": {
  "kernelspec": {
   "display_name": "Python 3",
   "language": "python",
   "name": "python3"
  },
  "language_info": {
   "codemirror_mode": {
    "name": "ipython",
    "version": 3
   },
   "file_extension": ".py",
   "mimetype": "text/x-python",
   "name": "python",
   "nbconvert_exporter": "python",
   "pygments_lexer": "ipython3",
   "version": "3.10.3"
  }
 },
 "nbformat": 4,
 "nbformat_minor": 2
}
