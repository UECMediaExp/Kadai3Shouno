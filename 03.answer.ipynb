{
 "cells": [
  {
   "cell_type": "markdown",
   "metadata": {},
   "source": [
    "# 実験3-3\n",
    "\n",
    "1. 未学習の ResNet18 モデルに対して，上記と同様の特徴の分布の分析を行いなさい．\n",
    "2. 学習済みの ResNet18 にファインチューニングを施し，上記と同様の特徴の分布の分析を行いなさい．\n",
    "3. それぞれの特徴の表現が学習のなかでどの様に変化するかを考察しなさい．\n"
   ]
  },
  {
   "cell_type": "markdown",
   "metadata": {},
   "source": [
    "## 以下回答\n",
    "\n",
    "回答の実験コードと結果を下記に記述していってください．"
   ]
  }
 ],
 "metadata": {
  "kernelspec": {
   "display_name": "Python 3",
   "language": "python",
   "name": "python3"
  },
  "language_info": {
   "codemirror_mode": {
    "name": "ipython",
    "version": 3
   },
   "file_extension": ".py",
   "mimetype": "text/x-python",
   "name": "python",
   "nbconvert_exporter": "python",
   "pygments_lexer": "ipython3",
   "version": "3.10.3"
  }
 },
 "nbformat": 4,
 "nbformat_minor": 2
}
